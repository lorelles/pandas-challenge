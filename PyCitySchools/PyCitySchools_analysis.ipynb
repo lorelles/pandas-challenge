{
 "cells": [
  {
   "cell_type": "markdown",
   "metadata": {},
   "source": [
    "### PyCitySchools Analysis"
   ]
  },
  {
   "cell_type": "code",
   "execution_count": 1,
   "metadata": {},
   "outputs": [
    {
     "data": {
      "text/html": [
       "<div>\n",
       "<style scoped>\n",
       "    .dataframe tbody tr th:only-of-type {\n",
       "        vertical-align: middle;\n",
       "    }\n",
       "\n",
       "    .dataframe tbody tr th {\n",
       "        vertical-align: top;\n",
       "    }\n",
       "\n",
       "    .dataframe thead th {\n",
       "        text-align: right;\n",
       "    }\n",
       "</style>\n",
       "<table border=\"1\" class=\"dataframe\">\n",
       "  <thead>\n",
       "    <tr style=\"text-align: right;\">\n",
       "      <th></th>\n",
       "      <th>Student ID</th>\n",
       "      <th>student_name</th>\n",
       "      <th>gender</th>\n",
       "      <th>grade</th>\n",
       "      <th>school_name</th>\n",
       "      <th>reading_score</th>\n",
       "      <th>math_score</th>\n",
       "      <th>School ID</th>\n",
       "      <th>type</th>\n",
       "      <th>size</th>\n",
       "      <th>budget</th>\n",
       "    </tr>\n",
       "  </thead>\n",
       "  <tbody>\n",
       "    <tr>\n",
       "      <th>0</th>\n",
       "      <td>0</td>\n",
       "      <td>Paul Bradley</td>\n",
       "      <td>M</td>\n",
       "      <td>9th</td>\n",
       "      <td>Huang High School</td>\n",
       "      <td>66</td>\n",
       "      <td>79</td>\n",
       "      <td>0</td>\n",
       "      <td>District</td>\n",
       "      <td>2917</td>\n",
       "      <td>1910635</td>\n",
       "    </tr>\n",
       "    <tr>\n",
       "      <th>1</th>\n",
       "      <td>1</td>\n",
       "      <td>Victor Smith</td>\n",
       "      <td>M</td>\n",
       "      <td>12th</td>\n",
       "      <td>Huang High School</td>\n",
       "      <td>94</td>\n",
       "      <td>61</td>\n",
       "      <td>0</td>\n",
       "      <td>District</td>\n",
       "      <td>2917</td>\n",
       "      <td>1910635</td>\n",
       "    </tr>\n",
       "    <tr>\n",
       "      <th>2</th>\n",
       "      <td>2</td>\n",
       "      <td>Kevin Rodriguez</td>\n",
       "      <td>M</td>\n",
       "      <td>12th</td>\n",
       "      <td>Huang High School</td>\n",
       "      <td>90</td>\n",
       "      <td>60</td>\n",
       "      <td>0</td>\n",
       "      <td>District</td>\n",
       "      <td>2917</td>\n",
       "      <td>1910635</td>\n",
       "    </tr>\n",
       "    <tr>\n",
       "      <th>3</th>\n",
       "      <td>3</td>\n",
       "      <td>Dr. Richard Scott</td>\n",
       "      <td>M</td>\n",
       "      <td>12th</td>\n",
       "      <td>Huang High School</td>\n",
       "      <td>67</td>\n",
       "      <td>58</td>\n",
       "      <td>0</td>\n",
       "      <td>District</td>\n",
       "      <td>2917</td>\n",
       "      <td>1910635</td>\n",
       "    </tr>\n",
       "    <tr>\n",
       "      <th>4</th>\n",
       "      <td>4</td>\n",
       "      <td>Bonnie Ray</td>\n",
       "      <td>F</td>\n",
       "      <td>9th</td>\n",
       "      <td>Huang High School</td>\n",
       "      <td>97</td>\n",
       "      <td>84</td>\n",
       "      <td>0</td>\n",
       "      <td>District</td>\n",
       "      <td>2917</td>\n",
       "      <td>1910635</td>\n",
       "    </tr>\n",
       "  </tbody>\n",
       "</table>\n",
       "</div>"
      ],
      "text/plain": [
       "   Student ID       student_name gender grade        school_name  \\\n",
       "0           0       Paul Bradley      M   9th  Huang High School   \n",
       "1           1       Victor Smith      M  12th  Huang High School   \n",
       "2           2    Kevin Rodriguez      M  12th  Huang High School   \n",
       "3           3  Dr. Richard Scott      M  12th  Huang High School   \n",
       "4           4         Bonnie Ray      F   9th  Huang High School   \n",
       "\n",
       "   reading_score  math_score  School ID      type  size   budget  \n",
       "0             66          79          0  District  2917  1910635  \n",
       "1             94          61          0  District  2917  1910635  \n",
       "2             90          60          0  District  2917  1910635  \n",
       "3             67          58          0  District  2917  1910635  \n",
       "4             97          84          0  District  2917  1910635  "
      ]
     },
     "execution_count": 1,
     "metadata": {},
     "output_type": "execute_result"
    }
   ],
   "source": [
    "# Dependencies and Setup\n",
    "import pandas as pd\n",
    "import numpy as np\n",
    "\n",
    "# File to Load (Remember to Change These)\n",
    "school_data_to_load = \"Resources/schools_complete.csv\"\n",
    "student_data_to_load = \"Resources/students_complete.csv\"\n",
    "\n",
    "# Read School and Student Data File and store into Pandas DataFrames\n",
    "school_data = pd.read_csv(school_data_to_load)\n",
    "student_data = pd.read_csv(student_data_to_load)\n",
    "\n",
    "# Combine the data into a single dataset.  \n",
    "school_data_complete = pd.merge(student_data, school_data, how=\"left\", \n",
    "                                on=[\"school_name\", \"school_name\"])\n",
    "school_data_complete.head()"
   ]
  },
  {
   "cell_type": "markdown",
   "metadata": {},
   "source": [
    "## District Summary\n",
    "* Optional: give the displayed data cleaner formatting"
   ]
  },
  {
   "cell_type": "code",
   "execution_count": 2,
   "metadata": {},
   "outputs": [
    {
     "data": {
      "text/plain": [
       "Index(['Student ID', 'student_name', 'gender', 'grade', 'school_name',\n",
       "       'reading_score', 'math_score', 'School ID', 'type', 'size', 'budget'],\n",
       "      dtype='object')"
      ]
     },
     "execution_count": 2,
     "metadata": {},
     "output_type": "execute_result"
    }
   ],
   "source": [
    "school_data_complete.columns"
   ]
  },
  {
   "cell_type": "code",
   "execution_count": 3,
   "metadata": {},
   "outputs": [
    {
     "data": {
      "text/plain": [
       "15"
      ]
     },
     "execution_count": 3,
     "metadata": {},
     "output_type": "execute_result"
    }
   ],
   "source": [
    "# Calculate the total number of schools\n",
    "schools = school_data[\"school_name\"].unique()\n",
    "total_schools = len(schools)\n",
    "total_schools"
   ]
  },
  {
   "cell_type": "code",
   "execution_count": 4,
   "metadata": {},
   "outputs": [
    {
     "data": {
      "text/plain": [
       "39170.0"
      ]
     },
     "execution_count": 4,
     "metadata": {},
     "output_type": "execute_result"
    }
   ],
   "source": [
    "# Calculate the total number of students\n",
    "total_students = student_data[\"Student ID\"].count().astype(float)\n",
    "total_students"
   ]
  },
  {
   "cell_type": "code",
   "execution_count": 5,
   "metadata": {},
   "outputs": [
    {
     "data": {
      "text/plain": [
       "24649428.0"
      ]
     },
     "execution_count": 5,
     "metadata": {},
     "output_type": "execute_result"
    }
   ],
   "source": [
    "# Calculate the total budget\n",
    "total_budget = round(school_data[\"budget\"].sum().astype(float))\n",
    "total_budget"
   ]
  },
  {
   "cell_type": "code",
   "execution_count": 6,
   "metadata": {},
   "outputs": [
    {
     "data": {
      "text/plain": [
       "79.0"
      ]
     },
     "execution_count": 6,
     "metadata": {},
     "output_type": "execute_result"
    }
   ],
   "source": [
    "# Calculate the average math score\n",
    "avg_math = round(school_data_complete[\"math_score\"].mean().astype(float))\n",
    "avg_math"
   ]
  },
  {
   "cell_type": "code",
   "execution_count": 7,
   "metadata": {},
   "outputs": [
    {
     "data": {
      "text/plain": [
       "82.0"
      ]
     },
     "execution_count": 7,
     "metadata": {},
     "output_type": "execute_result"
    }
   ],
   "source": [
    "# Calculate the average reading score\n",
    "avg_reading = round(school_data_complete[\"reading_score\"].mean().astype(float))\n",
    "avg_reading"
   ]
  },
  {
   "cell_type": "code",
   "execution_count": 8,
   "metadata": {},
   "outputs": [
    {
     "data": {
      "text/plain": [
       "array([74.98])"
      ]
     },
     "execution_count": 8,
     "metadata": {},
     "output_type": "execute_result"
    }
   ],
   "source": [
    "# Calculate the percentage of students with a passing math score (70 or greater)\n",
    "pass_math = school_data_complete.loc[school_data_complete[\"math_score\"] >= 70, :]\n",
    "passing_math = pass_math[\"Student ID\"].count().astype(float)\n",
    "total_passing_math = np.round([(passing_math / total_students) * 100], 2)\n",
    "total_passing_math"
   ]
  },
  {
   "cell_type": "code",
   "execution_count": 9,
   "metadata": {},
   "outputs": [
    {
     "data": {
      "text/plain": [
       "86.0"
      ]
     },
     "execution_count": 9,
     "metadata": {},
     "output_type": "execute_result"
    }
   ],
   "source": [
    "# Calculate the percentage of students with a passing reading score (70 or greater)\n",
    "pass_reading = school_data_complete.loc[school_data_complete[\"reading_score\"] >= 70, :]\n",
    "passing_reading = pass_reading[\"Student ID\"].count().astype(float)\n",
    "total_passing_reading = np.round((passing_reading / total_students), 2) *100\n",
    "total_passing_reading"
   ]
  },
  {
   "cell_type": "code",
   "execution_count": 10,
   "metadata": {},
   "outputs": [
    {
     "data": {
      "text/plain": [
       "65.0"
      ]
     },
     "execution_count": 10,
     "metadata": {},
     "output_type": "execute_result"
    }
   ],
   "source": [
    "# Calculate the percentage of students who passed math **and** reading (% Overall Passing)\n",
    "passed_reading_math = school_data_complete[(school_data_complete[\"reading_score\"] >= 70) & (school_data_complete[\"math_score\"] >= 70)]\n",
    "pass_both = passed_reading_math[\"Student ID\"].count().astype(float)                               \n",
    "total_passed = np.round((pass_both/total_students), 2) *100\n",
    "\n",
    "total_passed"
   ]
  },
  {
   "cell_type": "code",
   "execution_count": 11,
   "metadata": {},
   "outputs": [
    {
     "data": {
      "text/html": [
       "<div>\n",
       "<style scoped>\n",
       "    .dataframe tbody tr th:only-of-type {\n",
       "        vertical-align: middle;\n",
       "    }\n",
       "\n",
       "    .dataframe tbody tr th {\n",
       "        vertical-align: top;\n",
       "    }\n",
       "\n",
       "    .dataframe thead th {\n",
       "        text-align: right;\n",
       "    }\n",
       "</style>\n",
       "<table border=\"1\" class=\"dataframe\">\n",
       "  <thead>\n",
       "    <tr style=\"text-align: right;\">\n",
       "      <th></th>\n",
       "      <th>Total Schools</th>\n",
       "      <th>Total Students</th>\n",
       "      <th>Total Budget</th>\n",
       "      <th>Average Math Score</th>\n",
       "      <th>Average Reading Score</th>\n",
       "      <th>% Passing Math</th>\n",
       "      <th>% Passing Reading</th>\n",
       "      <th>% Overall Passing</th>\n",
       "    </tr>\n",
       "  </thead>\n",
       "  <tbody>\n",
       "    <tr>\n",
       "      <th>0</th>\n",
       "      <td>15</td>\n",
       "      <td>39,170.0</td>\n",
       "      <td>$24,649,428.0</td>\n",
       "      <td>79.0</td>\n",
       "      <td>82.0</td>\n",
       "      <td>[74.98]</td>\n",
       "      <td>86.0</td>\n",
       "      <td>65.0</td>\n",
       "    </tr>\n",
       "  </tbody>\n",
       "</table>\n",
       "</div>"
      ],
      "text/plain": [
       "   Total Schools Total Students   Total Budget Average Math Score  \\\n",
       "0             15       39,170.0  $24,649,428.0               79.0   \n",
       "\n",
       "  Average Reading Score % Passing Math % Passing Reading % Overall Passing  \n",
       "0                  82.0        [74.98]              86.0              65.0  "
      ]
     },
     "execution_count": 11,
     "metadata": {},
     "output_type": "execute_result"
    }
   ],
   "source": [
    "# Create a dataframe to hold the above results\n",
    "district_df = pd.DataFrame({\"Total Schools\": total_schools,\n",
    "                            \"Total Students\": f\"{total_students:,}\", \n",
    "                            \"Total Budget\": f\"${total_budget:,}\",\n",
    "                            \"Average Math Score\": f\"{avg_math:,}\",\n",
    "                            \"Average Reading Score\": f\"{avg_reading:,}\",\n",
    "                            \"% Passing Math\": f\"{total_passing_math:}\",\n",
    "                            \"% Passing Reading\": f\"{total_passing_reading:}\",\n",
    "                            \"% Overall Passing\": f\"{total_passed:}\"}, index = [0])\n",
    "district_df"
   ]
  },
  {
   "cell_type": "markdown",
   "metadata": {},
   "source": [
    "## School Summary"
   ]
  },
  {
   "cell_type": "markdown",
   "metadata": {},
   "source": [
    "* Create an overview table that summarizes key metrics about each school, including:\n",
    "  * School Name\n",
    "  * School Type\n",
    "  * Total Students\n",
    "  * Total School Budget\n",
    "  * Per Student Budget\n",
    "  * Average Math Score\n",
    "  * Average Reading Score\n",
    "  * % Passing Math\n",
    "  * % Passing Reading\n",
    "  * % Overall Passing (The percentage of students that passed math **and** reading.)\n",
    "  \n",
    "* Create a dataframe to hold the above results"
   ]
  },
  {
   "cell_type": "code",
   "execution_count": 12,
   "metadata": {},
   "outputs": [
    {
     "data": {
      "text/plain": [
       "Index(['Student ID', 'student_name', 'gender', 'grade', 'school_name',\n",
       "       'reading_score', 'math_score', 'School ID', 'type', 'size', 'budget'],\n",
       "      dtype='object')"
      ]
     },
     "execution_count": 12,
     "metadata": {},
     "output_type": "execute_result"
    }
   ],
   "source": [
    "school_data_complete.columns"
   ]
  },
  {
   "cell_type": "code",
   "execution_count": 13,
   "metadata": {},
   "outputs": [
    {
     "data": {
      "text/plain": [
       "0        Huang High School\n",
       "1     Figueroa High School\n",
       "2      Shelton High School\n",
       "3    Hernandez High School\n",
       "4      Griffin High School\n",
       "Name: school_name, dtype: object"
      ]
     },
     "execution_count": 13,
     "metadata": {},
     "output_type": "execute_result"
    }
   ],
   "source": [
    "# School Name\n",
    "school_names = school_data[\"school_name\"]\n",
    "school_names.head()"
   ]
  },
  {
   "cell_type": "code",
   "execution_count": 44,
   "metadata": {},
   "outputs": [
    {
     "data": {
      "text/plain": [
       "0        District\n",
       "1        District\n",
       "2        District\n",
       "3        District\n",
       "4        District\n",
       "           ...   \n",
       "39165     Charter\n",
       "39166     Charter\n",
       "39167     Charter\n",
       "39168     Charter\n",
       "39169     Charter\n",
       "Name: type, Length: 39170, dtype: object"
      ]
     },
     "execution_count": 44,
     "metadata": {},
     "output_type": "execute_result"
    }
   ],
   "source": [
    "# School Type\n",
    "school_type = school_data_complete[\"type\"]\n",
    "school_type"
   ]
  },
  {
   "cell_type": "code",
   "execution_count": 15,
   "metadata": {},
   "outputs": [
    {
     "data": {
      "text/plain": [
       "39170"
      ]
     },
     "execution_count": 15,
     "metadata": {},
     "output_type": "execute_result"
    }
   ],
   "source": [
    "# Total Students\n",
    "total_students = student_data[\"Student ID\"].count()\n",
    "total_students"
   ]
  },
  {
   "cell_type": "code",
   "execution_count": 16,
   "metadata": {},
   "outputs": [
    {
     "data": {
      "text/plain": [
       "0     1910635.0\n",
       "1     1884411.0\n",
       "2     1056600.0\n",
       "3     3022020.0\n",
       "4      917500.0\n",
       "5     1319574.0\n",
       "6     1081356.0\n",
       "7     3124928.0\n",
       "8      248087.0\n",
       "9      585858.0\n",
       "10    1049400.0\n",
       "11    2547363.0\n",
       "12    3094650.0\n",
       "13    1763916.0\n",
       "14    1043130.0\n",
       "Name: budget, dtype: float64"
      ]
     },
     "execution_count": 16,
     "metadata": {},
     "output_type": "execute_result"
    }
   ],
   "source": [
    "# Total School Budget\n",
    "total_school_budget = np.round((school_data[\"budget\"]), 2).astype(float)\n",
    "#.map(\"${:,.2f}\".format)\n",
    "total_school_budget "
   ]
  },
  {
   "cell_type": "code",
   "execution_count": 17,
   "metadata": {},
   "outputs": [
    {
     "data": {
      "text/plain": [
       "0     48.78\n",
       "1     48.11\n",
       "2     26.97\n",
       "3     77.15\n",
       "4     23.42\n",
       "5     33.69\n",
       "6     27.61\n",
       "7     79.78\n",
       "8      6.33\n",
       "9     14.96\n",
       "10    26.79\n",
       "11    65.03\n",
       "12    79.01\n",
       "13    45.03\n",
       "14    26.63\n",
       "Name: budget, dtype: float64"
      ]
     },
     "execution_count": 17,
     "metadata": {},
     "output_type": "execute_result"
    }
   ],
   "source": [
    "per_student_budget = np.round((total_school_budget/total_students), 2).astype(float)\n",
    "per_student_budget"
   ]
  },
  {
   "cell_type": "code",
   "execution_count": 18,
   "metadata": {},
   "outputs": [
    {
     "data": {
      "text/plain": [
       "79.0"
      ]
     },
     "execution_count": 18,
     "metadata": {},
     "output_type": "execute_result"
    }
   ],
   "source": [
    "# Average Math Score\n",
    "avg_math = round(student_data[\"math_score\"].mean().astype(float))\n",
    "avg_math"
   ]
  },
  {
   "cell_type": "code",
   "execution_count": 19,
   "metadata": {},
   "outputs": [
    {
     "data": {
      "text/plain": [
       "82.0"
      ]
     },
     "execution_count": 19,
     "metadata": {},
     "output_type": "execute_result"
    }
   ],
   "source": [
    "# Average Reading Score\n",
    "avg_reading = round(student_data[\"reading_score\"].mean().astype(float))\n",
    "avg_reading"
   ]
  },
  {
   "cell_type": "code",
   "execution_count": 20,
   "metadata": {},
   "outputs": [
    {
     "data": {
      "text/plain": [
       "array([74.98])"
      ]
     },
     "execution_count": 20,
     "metadata": {},
     "output_type": "execute_result"
    }
   ],
   "source": [
    "# % Passing Math\n",
    "# passing_math = school_data_complete.loc[school_data_complete[\"math_score\"] >= 70, :].count().astype(float)\n",
    "# total_passing_math = np.round((passing_math/total_students), 2) * 100\n",
    "# total_passing_math[\"math_score\"]\n",
    "pass_math = student_data.loc[student_data[\"math_score\"] >= 70, :]\n",
    "passing_math = pass_math[\"Student ID\"].count().astype(float)\n",
    "total_passing_math = np.round([(passing_math / total_students) * 100], 2)\n",
    "total_passing_math"
   ]
  },
  {
   "cell_type": "code",
   "execution_count": 21,
   "metadata": {},
   "outputs": [
    {
     "data": {
      "text/plain": [
       "86.0"
      ]
     },
     "execution_count": 21,
     "metadata": {},
     "output_type": "execute_result"
    }
   ],
   "source": [
    "# % Passing Reading\n",
    "# passing_reading = school_data_complete.loc[school_data_complete[\"reading_score\"] >= 70, :].count().astype(float)\n",
    "# total_passing_reading = np.round((passing_reading/total_students), 2) * 100\n",
    "# total_passing_reading[\"reading_score\"]\n",
    "pass_reading = student_data.loc[student_data[\"reading_score\"] >= 70, :]\n",
    "passing_reading = pass_reading[\"Student ID\"].count().astype(float)\n",
    "total_passing_reading = np.round((passing_reading / total_students), 2) *100\n",
    "total_passing_reading"
   ]
  },
  {
   "cell_type": "code",
   "execution_count": 22,
   "metadata": {},
   "outputs": [
    {
     "data": {
      "text/plain": [
       "65.0"
      ]
     },
     "execution_count": 22,
     "metadata": {},
     "output_type": "execute_result"
    }
   ],
   "source": [
    "# % Overall Passing (The percentage of students that passed math and reading.)\n",
    "# passed_reading_math = school_data_complete.loc[(school_data_complete[\"reading_score\"] >= 70) & (school_data_complete[\"math_score\"] >= 70)] \n",
    "# passed_reading_math\n",
    "passed_reading_math = student_data[(student_data[\"reading_score\"] >= 70) & (student_data[\"math_score\"] >= 70)]\n",
    "pass_both = passed_reading_math[\"Student ID\"].count().astype(float)                               \n",
    "total_passed = np.round((pass_both/total_students), 2) *100\n",
    "\n",
    "total_passed"
   ]
  },
  {
   "cell_type": "code",
   "execution_count": 23,
   "metadata": {},
   "outputs": [
    {
     "data": {
      "text/html": [
       "<div>\n",
       "<style scoped>\n",
       "    .dataframe tbody tr th:only-of-type {\n",
       "        vertical-align: middle;\n",
       "    }\n",
       "\n",
       "    .dataframe tbody tr th {\n",
       "        vertical-align: top;\n",
       "    }\n",
       "\n",
       "    .dataframe thead th {\n",
       "        text-align: right;\n",
       "    }\n",
       "</style>\n",
       "<table border=\"1\" class=\"dataframe\">\n",
       "  <thead>\n",
       "    <tr style=\"text-align: right;\">\n",
       "      <th></th>\n",
       "      <th>School Name</th>\n",
       "      <th>School Type</th>\n",
       "      <th>Total Students</th>\n",
       "      <th>Total School Budget</th>\n",
       "      <th>Per Student Budget</th>\n",
       "      <th>Average Math Score</th>\n",
       "      <th>Average Reading Score</th>\n",
       "      <th>% Passing Math</th>\n",
       "      <th>% Passing Reading</th>\n",
       "      <th>% Overall Passing</th>\n",
       "    </tr>\n",
       "  </thead>\n",
       "  <tbody>\n",
       "    <tr>\n",
       "      <th>0</th>\n",
       "      <td>Huang High School</td>\n",
       "      <td>District</td>\n",
       "      <td>39,170</td>\n",
       "      <td>$0     1910635.0\\n1     1884411.0\\n2     10566...</td>\n",
       "      <td>$0     48.78\\n1     48.11\\n2     26.97\\n3     ...</td>\n",
       "      <td>79.0</td>\n",
       "      <td>82.0</td>\n",
       "      <td>[74.98]</td>\n",
       "      <td>86.0</td>\n",
       "      <td>65.0</td>\n",
       "    </tr>\n",
       "    <tr>\n",
       "      <th>1</th>\n",
       "      <td>Figueroa High School</td>\n",
       "      <td>District</td>\n",
       "      <td>39,170</td>\n",
       "      <td>$0     1910635.0\\n1     1884411.0\\n2     10566...</td>\n",
       "      <td>$0     48.78\\n1     48.11\\n2     26.97\\n3     ...</td>\n",
       "      <td>79.0</td>\n",
       "      <td>82.0</td>\n",
       "      <td>[74.98]</td>\n",
       "      <td>86.0</td>\n",
       "      <td>65.0</td>\n",
       "    </tr>\n",
       "    <tr>\n",
       "      <th>2</th>\n",
       "      <td>Shelton High School</td>\n",
       "      <td>District</td>\n",
       "      <td>39,170</td>\n",
       "      <td>$0     1910635.0\\n1     1884411.0\\n2     10566...</td>\n",
       "      <td>$0     48.78\\n1     48.11\\n2     26.97\\n3     ...</td>\n",
       "      <td>79.0</td>\n",
       "      <td>82.0</td>\n",
       "      <td>[74.98]</td>\n",
       "      <td>86.0</td>\n",
       "      <td>65.0</td>\n",
       "    </tr>\n",
       "    <tr>\n",
       "      <th>3</th>\n",
       "      <td>Hernandez High School</td>\n",
       "      <td>District</td>\n",
       "      <td>39,170</td>\n",
       "      <td>$0     1910635.0\\n1     1884411.0\\n2     10566...</td>\n",
       "      <td>$0     48.78\\n1     48.11\\n2     26.97\\n3     ...</td>\n",
       "      <td>79.0</td>\n",
       "      <td>82.0</td>\n",
       "      <td>[74.98]</td>\n",
       "      <td>86.0</td>\n",
       "      <td>65.0</td>\n",
       "    </tr>\n",
       "    <tr>\n",
       "      <th>4</th>\n",
       "      <td>Griffin High School</td>\n",
       "      <td>District</td>\n",
       "      <td>39,170</td>\n",
       "      <td>$0     1910635.0\\n1     1884411.0\\n2     10566...</td>\n",
       "      <td>$0     48.78\\n1     48.11\\n2     26.97\\n3     ...</td>\n",
       "      <td>79.0</td>\n",
       "      <td>82.0</td>\n",
       "      <td>[74.98]</td>\n",
       "      <td>86.0</td>\n",
       "      <td>65.0</td>\n",
       "    </tr>\n",
       "    <tr>\n",
       "      <th>5</th>\n",
       "      <td>Wilson High School</td>\n",
       "      <td>District</td>\n",
       "      <td>39,170</td>\n",
       "      <td>$0     1910635.0\\n1     1884411.0\\n2     10566...</td>\n",
       "      <td>$0     48.78\\n1     48.11\\n2     26.97\\n3     ...</td>\n",
       "      <td>79.0</td>\n",
       "      <td>82.0</td>\n",
       "      <td>[74.98]</td>\n",
       "      <td>86.0</td>\n",
       "      <td>65.0</td>\n",
       "    </tr>\n",
       "    <tr>\n",
       "      <th>6</th>\n",
       "      <td>Cabrera High School</td>\n",
       "      <td>District</td>\n",
       "      <td>39,170</td>\n",
       "      <td>$0     1910635.0\\n1     1884411.0\\n2     10566...</td>\n",
       "      <td>$0     48.78\\n1     48.11\\n2     26.97\\n3     ...</td>\n",
       "      <td>79.0</td>\n",
       "      <td>82.0</td>\n",
       "      <td>[74.98]</td>\n",
       "      <td>86.0</td>\n",
       "      <td>65.0</td>\n",
       "    </tr>\n",
       "    <tr>\n",
       "      <th>7</th>\n",
       "      <td>Bailey High School</td>\n",
       "      <td>District</td>\n",
       "      <td>39,170</td>\n",
       "      <td>$0     1910635.0\\n1     1884411.0\\n2     10566...</td>\n",
       "      <td>$0     48.78\\n1     48.11\\n2     26.97\\n3     ...</td>\n",
       "      <td>79.0</td>\n",
       "      <td>82.0</td>\n",
       "      <td>[74.98]</td>\n",
       "      <td>86.0</td>\n",
       "      <td>65.0</td>\n",
       "    </tr>\n",
       "    <tr>\n",
       "      <th>8</th>\n",
       "      <td>Holden High School</td>\n",
       "      <td>District</td>\n",
       "      <td>39,170</td>\n",
       "      <td>$0     1910635.0\\n1     1884411.0\\n2     10566...</td>\n",
       "      <td>$0     48.78\\n1     48.11\\n2     26.97\\n3     ...</td>\n",
       "      <td>79.0</td>\n",
       "      <td>82.0</td>\n",
       "      <td>[74.98]</td>\n",
       "      <td>86.0</td>\n",
       "      <td>65.0</td>\n",
       "    </tr>\n",
       "    <tr>\n",
       "      <th>9</th>\n",
       "      <td>Pena High School</td>\n",
       "      <td>District</td>\n",
       "      <td>39,170</td>\n",
       "      <td>$0     1910635.0\\n1     1884411.0\\n2     10566...</td>\n",
       "      <td>$0     48.78\\n1     48.11\\n2     26.97\\n3     ...</td>\n",
       "      <td>79.0</td>\n",
       "      <td>82.0</td>\n",
       "      <td>[74.98]</td>\n",
       "      <td>86.0</td>\n",
       "      <td>65.0</td>\n",
       "    </tr>\n",
       "  </tbody>\n",
       "</table>\n",
       "</div>"
      ],
      "text/plain": [
       "             School Name School Type Total Students  \\\n",
       "0      Huang High School    District         39,170   \n",
       "1   Figueroa High School    District         39,170   \n",
       "2    Shelton High School    District         39,170   \n",
       "3  Hernandez High School    District         39,170   \n",
       "4    Griffin High School    District         39,170   \n",
       "5     Wilson High School    District         39,170   \n",
       "6    Cabrera High School    District         39,170   \n",
       "7     Bailey High School    District         39,170   \n",
       "8     Holden High School    District         39,170   \n",
       "9       Pena High School    District         39,170   \n",
       "\n",
       "                                 Total School Budget  \\\n",
       "0  $0     1910635.0\\n1     1884411.0\\n2     10566...   \n",
       "1  $0     1910635.0\\n1     1884411.0\\n2     10566...   \n",
       "2  $0     1910635.0\\n1     1884411.0\\n2     10566...   \n",
       "3  $0     1910635.0\\n1     1884411.0\\n2     10566...   \n",
       "4  $0     1910635.0\\n1     1884411.0\\n2     10566...   \n",
       "5  $0     1910635.0\\n1     1884411.0\\n2     10566...   \n",
       "6  $0     1910635.0\\n1     1884411.0\\n2     10566...   \n",
       "7  $0     1910635.0\\n1     1884411.0\\n2     10566...   \n",
       "8  $0     1910635.0\\n1     1884411.0\\n2     10566...   \n",
       "9  $0     1910635.0\\n1     1884411.0\\n2     10566...   \n",
       "\n",
       "                                  Per Student Budget Average Math Score  \\\n",
       "0  $0     48.78\\n1     48.11\\n2     26.97\\n3     ...               79.0   \n",
       "1  $0     48.78\\n1     48.11\\n2     26.97\\n3     ...               79.0   \n",
       "2  $0     48.78\\n1     48.11\\n2     26.97\\n3     ...               79.0   \n",
       "3  $0     48.78\\n1     48.11\\n2     26.97\\n3     ...               79.0   \n",
       "4  $0     48.78\\n1     48.11\\n2     26.97\\n3     ...               79.0   \n",
       "5  $0     48.78\\n1     48.11\\n2     26.97\\n3     ...               79.0   \n",
       "6  $0     48.78\\n1     48.11\\n2     26.97\\n3     ...               79.0   \n",
       "7  $0     48.78\\n1     48.11\\n2     26.97\\n3     ...               79.0   \n",
       "8  $0     48.78\\n1     48.11\\n2     26.97\\n3     ...               79.0   \n",
       "9  $0     48.78\\n1     48.11\\n2     26.97\\n3     ...               79.0   \n",
       "\n",
       "  Average Reading Score % Passing Math % Passing Reading % Overall Passing  \n",
       "0                  82.0        [74.98]              86.0              65.0  \n",
       "1                  82.0        [74.98]              86.0              65.0  \n",
       "2                  82.0        [74.98]              86.0              65.0  \n",
       "3                  82.0        [74.98]              86.0              65.0  \n",
       "4                  82.0        [74.98]              86.0              65.0  \n",
       "5                  82.0        [74.98]              86.0              65.0  \n",
       "6                  82.0        [74.98]              86.0              65.0  \n",
       "7                  82.0        [74.98]              86.0              65.0  \n",
       "8                  82.0        [74.98]              86.0              65.0  \n",
       "9                  82.0        [74.98]              86.0              65.0  "
      ]
     },
     "execution_count": 23,
     "metadata": {},
     "output_type": "execute_result"
    }
   ],
   "source": [
    "# Create a dataframe to hold the above results\n",
    "school_summary_df = pd.DataFrame({\"School Name\": school_names,\n",
    "                            \"School Type\": school_type,\n",
    "                            \"Total Students\": f\"{total_students:,}\", \n",
    "                            \"Total School Budget\": f\"${total_school_budget:}\",\n",
    "                            \"Per Student Budget\": f\"${per_student_budget:}\",\n",
    "                            \"Average Math Score\": f\"{avg_math: }\",\n",
    "                            \"Average Reading Score\": f\"{avg_reading:,}\",\n",
    "                            \"% Passing Math\": f\"{total_passing_math:}\",\n",
    "                            \"% Passing Reading\": f\"{total_passing_reading:}\",\n",
    "                            \"% Overall Passing\": f\"{total_passed: }\"})\n",
    "                                \n",
    "# total_school_summary_df = school_summary_df [[\"School Name\", \n",
    "#                                               \"School Type\", \n",
    "#                                               \"Total Students\", \n",
    "#                                               \"Total School Budget\",\n",
    "#                                               \"Per Student Budget\",\n",
    "#                                               \"Average Math Score\",\n",
    "#                                               \"Average Reading Score\",\n",
    "#                                               \"% Passing Math\",\n",
    "#                                               \"% Passing Reading\",\n",
    "#                                               \"% Overall Passing\"]]\n",
    "\n",
    "\n",
    "#school_summary_groups_df = school_summary_df.groupby([\"School Name\", \n",
    "                                                           #\"School Type\", \n",
    "                                                          # \"Total Students\",])\n",
    "                                                           #\"Total School Budget\",\n",
    "                                                           #\"Per Student Budget\",\n",
    "                                                           #\"Average Math Score\",\n",
    "                                                          # \"Average Reading Score\",\n",
    "                                                           #\"% Passing Math\",\n",
    "                                                           #\"% Passing Reading\",\n",
    "                                                           #\"% Overall Passing\"])\n",
    "#school_summary_groups.describe()\n",
    "#passing_school_summary_df = school_summary_df.set_index(\"passed_reading_math\")\n",
    "school_summary_df.head(10)"
   ]
  },
  {
   "cell_type": "markdown",
   "metadata": {},
   "source": [
    "## Top Performing Schools (By % Overall Passing)"
   ]
  },
  {
   "cell_type": "code",
   "execution_count": 24,
   "metadata": {},
   "outputs": [
    {
     "data": {
      "text/html": [
       "<div>\n",
       "<style scoped>\n",
       "    .dataframe tbody tr th:only-of-type {\n",
       "        vertical-align: middle;\n",
       "    }\n",
       "\n",
       "    .dataframe tbody tr th {\n",
       "        vertical-align: top;\n",
       "    }\n",
       "\n",
       "    .dataframe thead th {\n",
       "        text-align: right;\n",
       "    }\n",
       "</style>\n",
       "<table border=\"1\" class=\"dataframe\">\n",
       "  <thead>\n",
       "    <tr style=\"text-align: right;\">\n",
       "      <th></th>\n",
       "      <th>School Name</th>\n",
       "      <th>School Type</th>\n",
       "      <th>Total Students</th>\n",
       "      <th>Total School Budget</th>\n",
       "      <th>Per Student Budget</th>\n",
       "      <th>Average Math Score</th>\n",
       "      <th>Average Reading Score</th>\n",
       "      <th>% Passing Math</th>\n",
       "      <th>% Passing Reading</th>\n",
       "      <th>% Overall Passing</th>\n",
       "    </tr>\n",
       "  </thead>\n",
       "  <tbody>\n",
       "    <tr>\n",
       "      <th>0</th>\n",
       "      <td>Huang High School</td>\n",
       "      <td>District</td>\n",
       "      <td>39,170</td>\n",
       "      <td>$0     1910635.0\\n1     1884411.0\\n2     10566...</td>\n",
       "      <td>$0     48.78\\n1     48.11\\n2     26.97\\n3     ...</td>\n",
       "      <td>79.0</td>\n",
       "      <td>82.0</td>\n",
       "      <td>[74.98]</td>\n",
       "      <td>86.0</td>\n",
       "      <td>65.0</td>\n",
       "    </tr>\n",
       "    <tr>\n",
       "      <th>26116</th>\n",
       "      <td>NaN</td>\n",
       "      <td>District</td>\n",
       "      <td>39,170</td>\n",
       "      <td>$0     1910635.0\\n1     1884411.0\\n2     10566...</td>\n",
       "      <td>$0     48.78\\n1     48.11\\n2     26.97\\n3     ...</td>\n",
       "      <td>79.0</td>\n",
       "      <td>82.0</td>\n",
       "      <td>[74.98]</td>\n",
       "      <td>86.0</td>\n",
       "      <td>65.0</td>\n",
       "    </tr>\n",
       "    <tr>\n",
       "      <th>26109</th>\n",
       "      <td>NaN</td>\n",
       "      <td>District</td>\n",
       "      <td>39,170</td>\n",
       "      <td>$0     1910635.0\\n1     1884411.0\\n2     10566...</td>\n",
       "      <td>$0     48.78\\n1     48.11\\n2     26.97\\n3     ...</td>\n",
       "      <td>79.0</td>\n",
       "      <td>82.0</td>\n",
       "      <td>[74.98]</td>\n",
       "      <td>86.0</td>\n",
       "      <td>65.0</td>\n",
       "    </tr>\n",
       "    <tr>\n",
       "      <th>26110</th>\n",
       "      <td>NaN</td>\n",
       "      <td>District</td>\n",
       "      <td>39,170</td>\n",
       "      <td>$0     1910635.0\\n1     1884411.0\\n2     10566...</td>\n",
       "      <td>$0     48.78\\n1     48.11\\n2     26.97\\n3     ...</td>\n",
       "      <td>79.0</td>\n",
       "      <td>82.0</td>\n",
       "      <td>[74.98]</td>\n",
       "      <td>86.0</td>\n",
       "      <td>65.0</td>\n",
       "    </tr>\n",
       "    <tr>\n",
       "      <th>26111</th>\n",
       "      <td>NaN</td>\n",
       "      <td>District</td>\n",
       "      <td>39,170</td>\n",
       "      <td>$0     1910635.0\\n1     1884411.0\\n2     10566...</td>\n",
       "      <td>$0     48.78\\n1     48.11\\n2     26.97\\n3     ...</td>\n",
       "      <td>79.0</td>\n",
       "      <td>82.0</td>\n",
       "      <td>[74.98]</td>\n",
       "      <td>86.0</td>\n",
       "      <td>65.0</td>\n",
       "    </tr>\n",
       "  </tbody>\n",
       "</table>\n",
       "</div>"
      ],
      "text/plain": [
       "             School Name School Type Total Students  \\\n",
       "0      Huang High School    District         39,170   \n",
       "26116                NaN    District         39,170   \n",
       "26109                NaN    District         39,170   \n",
       "26110                NaN    District         39,170   \n",
       "26111                NaN    District         39,170   \n",
       "\n",
       "                                     Total School Budget  \\\n",
       "0      $0     1910635.0\\n1     1884411.0\\n2     10566...   \n",
       "26116  $0     1910635.0\\n1     1884411.0\\n2     10566...   \n",
       "26109  $0     1910635.0\\n1     1884411.0\\n2     10566...   \n",
       "26110  $0     1910635.0\\n1     1884411.0\\n2     10566...   \n",
       "26111  $0     1910635.0\\n1     1884411.0\\n2     10566...   \n",
       "\n",
       "                                      Per Student Budget Average Math Score  \\\n",
       "0      $0     48.78\\n1     48.11\\n2     26.97\\n3     ...               79.0   \n",
       "26116  $0     48.78\\n1     48.11\\n2     26.97\\n3     ...               79.0   \n",
       "26109  $0     48.78\\n1     48.11\\n2     26.97\\n3     ...               79.0   \n",
       "26110  $0     48.78\\n1     48.11\\n2     26.97\\n3     ...               79.0   \n",
       "26111  $0     48.78\\n1     48.11\\n2     26.97\\n3     ...               79.0   \n",
       "\n",
       "      Average Reading Score % Passing Math % Passing Reading % Overall Passing  \n",
       "0                      82.0        [74.98]              86.0              65.0  \n",
       "26116                  82.0        [74.98]              86.0              65.0  \n",
       "26109                  82.0        [74.98]              86.0              65.0  \n",
       "26110                  82.0        [74.98]              86.0              65.0  \n",
       "26111                  82.0        [74.98]              86.0              65.0  "
      ]
     },
     "execution_count": 24,
     "metadata": {},
     "output_type": "execute_result"
    }
   ],
   "source": [
    "# Sort and display the top five performing schools by % overall passing.\n",
    "overall_passing_df = school_summary_df.sort_values(\"% Overall Passing\", ascending=False)\n",
    "overall_passing_df.head(5)"
   ]
  },
  {
   "cell_type": "markdown",
   "metadata": {},
   "source": [
    "## Bottom Performing Schools (By % Overall Passing)"
   ]
  },
  {
   "cell_type": "markdown",
   "metadata": {},
   "source": [
    "* Sort and display the five worst-performing schools by % overall passing."
   ]
  },
  {
   "cell_type": "code",
   "execution_count": 25,
   "metadata": {},
   "outputs": [
    {
     "data": {
      "text/html": [
       "<div>\n",
       "<style scoped>\n",
       "    .dataframe tbody tr th:only-of-type {\n",
       "        vertical-align: middle;\n",
       "    }\n",
       "\n",
       "    .dataframe tbody tr th {\n",
       "        vertical-align: top;\n",
       "    }\n",
       "\n",
       "    .dataframe thead th {\n",
       "        text-align: right;\n",
       "    }\n",
       "</style>\n",
       "<table border=\"1\" class=\"dataframe\">\n",
       "  <thead>\n",
       "    <tr style=\"text-align: right;\">\n",
       "      <th></th>\n",
       "      <th>School Name</th>\n",
       "      <th>School Type</th>\n",
       "      <th>Total Students</th>\n",
       "      <th>Total School Budget</th>\n",
       "      <th>Per Student Budget</th>\n",
       "      <th>Average Math Score</th>\n",
       "      <th>Average Reading Score</th>\n",
       "      <th>% Passing Math</th>\n",
       "      <th>% Passing Reading</th>\n",
       "      <th>% Overall Passing</th>\n",
       "    </tr>\n",
       "  </thead>\n",
       "  <tbody>\n",
       "    <tr>\n",
       "      <th>0</th>\n",
       "      <td>Huang High School</td>\n",
       "      <td>District</td>\n",
       "      <td>39,170</td>\n",
       "      <td>$0     1910635.0\\n1     1884411.0\\n2     10566...</td>\n",
       "      <td>$0     48.78\\n1     48.11\\n2     26.97\\n3     ...</td>\n",
       "      <td>79.0</td>\n",
       "      <td>82.0</td>\n",
       "      <td>[74.98]</td>\n",
       "      <td>86.0</td>\n",
       "      <td>65.0</td>\n",
       "    </tr>\n",
       "    <tr>\n",
       "      <th>26109</th>\n",
       "      <td>NaN</td>\n",
       "      <td>District</td>\n",
       "      <td>39,170</td>\n",
       "      <td>$0     1910635.0\\n1     1884411.0\\n2     10566...</td>\n",
       "      <td>$0     48.78\\n1     48.11\\n2     26.97\\n3     ...</td>\n",
       "      <td>79.0</td>\n",
       "      <td>82.0</td>\n",
       "      <td>[74.98]</td>\n",
       "      <td>86.0</td>\n",
       "      <td>65.0</td>\n",
       "    </tr>\n",
       "    <tr>\n",
       "      <th>26110</th>\n",
       "      <td>NaN</td>\n",
       "      <td>District</td>\n",
       "      <td>39,170</td>\n",
       "      <td>$0     1910635.0\\n1     1884411.0\\n2     10566...</td>\n",
       "      <td>$0     48.78\\n1     48.11\\n2     26.97\\n3     ...</td>\n",
       "      <td>79.0</td>\n",
       "      <td>82.0</td>\n",
       "      <td>[74.98]</td>\n",
       "      <td>86.0</td>\n",
       "      <td>65.0</td>\n",
       "    </tr>\n",
       "    <tr>\n",
       "      <th>26111</th>\n",
       "      <td>NaN</td>\n",
       "      <td>District</td>\n",
       "      <td>39,170</td>\n",
       "      <td>$0     1910635.0\\n1     1884411.0\\n2     10566...</td>\n",
       "      <td>$0     48.78\\n1     48.11\\n2     26.97\\n3     ...</td>\n",
       "      <td>79.0</td>\n",
       "      <td>82.0</td>\n",
       "      <td>[74.98]</td>\n",
       "      <td>86.0</td>\n",
       "      <td>65.0</td>\n",
       "    </tr>\n",
       "    <tr>\n",
       "      <th>26112</th>\n",
       "      <td>NaN</td>\n",
       "      <td>District</td>\n",
       "      <td>39,170</td>\n",
       "      <td>$0     1910635.0\\n1     1884411.0\\n2     10566...</td>\n",
       "      <td>$0     48.78\\n1     48.11\\n2     26.97\\n3     ...</td>\n",
       "      <td>79.0</td>\n",
       "      <td>82.0</td>\n",
       "      <td>[74.98]</td>\n",
       "      <td>86.0</td>\n",
       "      <td>65.0</td>\n",
       "    </tr>\n",
       "  </tbody>\n",
       "</table>\n",
       "</div>"
      ],
      "text/plain": [
       "             School Name School Type Total Students  \\\n",
       "0      Huang High School    District         39,170   \n",
       "26109                NaN    District         39,170   \n",
       "26110                NaN    District         39,170   \n",
       "26111                NaN    District         39,170   \n",
       "26112                NaN    District         39,170   \n",
       "\n",
       "                                     Total School Budget  \\\n",
       "0      $0     1910635.0\\n1     1884411.0\\n2     10566...   \n",
       "26109  $0     1910635.0\\n1     1884411.0\\n2     10566...   \n",
       "26110  $0     1910635.0\\n1     1884411.0\\n2     10566...   \n",
       "26111  $0     1910635.0\\n1     1884411.0\\n2     10566...   \n",
       "26112  $0     1910635.0\\n1     1884411.0\\n2     10566...   \n",
       "\n",
       "                                      Per Student Budget Average Math Score  \\\n",
       "0      $0     48.78\\n1     48.11\\n2     26.97\\n3     ...               79.0   \n",
       "26109  $0     48.78\\n1     48.11\\n2     26.97\\n3     ...               79.0   \n",
       "26110  $0     48.78\\n1     48.11\\n2     26.97\\n3     ...               79.0   \n",
       "26111  $0     48.78\\n1     48.11\\n2     26.97\\n3     ...               79.0   \n",
       "26112  $0     48.78\\n1     48.11\\n2     26.97\\n3     ...               79.0   \n",
       "\n",
       "      Average Reading Score % Passing Math % Passing Reading % Overall Passing  \n",
       "0                      82.0        [74.98]              86.0              65.0  \n",
       "26109                  82.0        [74.98]              86.0              65.0  \n",
       "26110                  82.0        [74.98]              86.0              65.0  \n",
       "26111                  82.0        [74.98]              86.0              65.0  \n",
       "26112                  82.0        [74.98]              86.0              65.0  "
      ]
     },
     "execution_count": 25,
     "metadata": {},
     "output_type": "execute_result"
    }
   ],
   "source": [
    "overall_passing_df = school_summary_df.sort_values(\"% Overall Passing\", ascending=True)\n",
    "overall_passing_df.head(5)"
   ]
  },
  {
   "cell_type": "markdown",
   "metadata": {
    "collapsed": true
   },
   "source": [
    "## Math Scores by Grade"
   ]
  },
  {
   "cell_type": "markdown",
   "metadata": {},
   "source": [
    "* Create a table that lists the average Reading Score for students of each grade level (9th, 10th, 11th, 12th) at each school.\n",
    "\n",
    "  * Create a pandas series for each grade. Hint: use a conditional statement.\n",
    "  \n",
    "  * Group each series by school\n",
    "  \n",
    "  * Combine the series into a dataframe\n",
    "  \n",
    "  * Optional: give the displayed data cleaner formatting"
   ]
  },
  {
   "cell_type": "code",
   "execution_count": 26,
   "metadata": {},
   "outputs": [
    {
     "data": {
      "text/html": [
       "<div>\n",
       "<style scoped>\n",
       "    .dataframe tbody tr th:only-of-type {\n",
       "        vertical-align: middle;\n",
       "    }\n",
       "\n",
       "    .dataframe tbody tr th {\n",
       "        vertical-align: top;\n",
       "    }\n",
       "\n",
       "    .dataframe thead th {\n",
       "        text-align: right;\n",
       "    }\n",
       "</style>\n",
       "<table border=\"1\" class=\"dataframe\">\n",
       "  <thead>\n",
       "    <tr style=\"text-align: right;\">\n",
       "      <th></th>\n",
       "      <th>9th Grade</th>\n",
       "      <th>10th Grade</th>\n",
       "      <th>11th Grade</th>\n",
       "      <th>12th Grade</th>\n",
       "    </tr>\n",
       "    <tr>\n",
       "      <th>school_name</th>\n",
       "      <th></th>\n",
       "      <th></th>\n",
       "      <th></th>\n",
       "      <th></th>\n",
       "    </tr>\n",
       "  </thead>\n",
       "  <tbody>\n",
       "    <tr>\n",
       "      <th>Bailey High School</th>\n",
       "      <td>77.0</td>\n",
       "      <td>77.0</td>\n",
       "      <td>78.0</td>\n",
       "      <td>76.0</td>\n",
       "    </tr>\n",
       "    <tr>\n",
       "      <th>Cabrera High School</th>\n",
       "      <td>83.0</td>\n",
       "      <td>83.0</td>\n",
       "      <td>83.0</td>\n",
       "      <td>83.0</td>\n",
       "    </tr>\n",
       "    <tr>\n",
       "      <th>Figueroa High School</th>\n",
       "      <td>76.0</td>\n",
       "      <td>77.0</td>\n",
       "      <td>77.0</td>\n",
       "      <td>77.0</td>\n",
       "    </tr>\n",
       "    <tr>\n",
       "      <th>Ford High School</th>\n",
       "      <td>77.0</td>\n",
       "      <td>78.0</td>\n",
       "      <td>77.0</td>\n",
       "      <td>76.0</td>\n",
       "    </tr>\n",
       "    <tr>\n",
       "      <th>Griffin High School</th>\n",
       "      <td>82.0</td>\n",
       "      <td>84.0</td>\n",
       "      <td>84.0</td>\n",
       "      <td>83.0</td>\n",
       "    </tr>\n",
       "    <tr>\n",
       "      <th>Hernandez High School</th>\n",
       "      <td>77.0</td>\n",
       "      <td>77.0</td>\n",
       "      <td>77.0</td>\n",
       "      <td>77.0</td>\n",
       "    </tr>\n",
       "    <tr>\n",
       "      <th>Holden High School</th>\n",
       "      <td>84.0</td>\n",
       "      <td>83.0</td>\n",
       "      <td>85.0</td>\n",
       "      <td>83.0</td>\n",
       "    </tr>\n",
       "    <tr>\n",
       "      <th>Huang High School</th>\n",
       "      <td>77.0</td>\n",
       "      <td>76.0</td>\n",
       "      <td>76.0</td>\n",
       "      <td>77.0</td>\n",
       "    </tr>\n",
       "    <tr>\n",
       "      <th>Johnson High School</th>\n",
       "      <td>77.0</td>\n",
       "      <td>77.0</td>\n",
       "      <td>77.0</td>\n",
       "      <td>77.0</td>\n",
       "    </tr>\n",
       "    <tr>\n",
       "      <th>Pena High School</th>\n",
       "      <td>84.0</td>\n",
       "      <td>83.0</td>\n",
       "      <td>84.0</td>\n",
       "      <td>84.0</td>\n",
       "    </tr>\n",
       "    <tr>\n",
       "      <th>Rodriguez High School</th>\n",
       "      <td>77.0</td>\n",
       "      <td>77.0</td>\n",
       "      <td>76.0</td>\n",
       "      <td>78.0</td>\n",
       "    </tr>\n",
       "    <tr>\n",
       "      <th>Shelton High School</th>\n",
       "      <td>83.0</td>\n",
       "      <td>83.0</td>\n",
       "      <td>83.0</td>\n",
       "      <td>84.0</td>\n",
       "    </tr>\n",
       "    <tr>\n",
       "      <th>Thomas High School</th>\n",
       "      <td>84.0</td>\n",
       "      <td>83.0</td>\n",
       "      <td>83.0</td>\n",
       "      <td>83.0</td>\n",
       "    </tr>\n",
       "    <tr>\n",
       "      <th>Wilson High School</th>\n",
       "      <td>83.0</td>\n",
       "      <td>84.0</td>\n",
       "      <td>83.0</td>\n",
       "      <td>83.0</td>\n",
       "    </tr>\n",
       "    <tr>\n",
       "      <th>Wright High School</th>\n",
       "      <td>83.0</td>\n",
       "      <td>84.0</td>\n",
       "      <td>84.0</td>\n",
       "      <td>84.0</td>\n",
       "    </tr>\n",
       "  </tbody>\n",
       "</table>\n",
       "</div>"
      ],
      "text/plain": [
       "                       9th Grade  10th Grade  11th Grade  12th Grade\n",
       "school_name                                                         \n",
       "Bailey High School          77.0        77.0        78.0        76.0\n",
       "Cabrera High School         83.0        83.0        83.0        83.0\n",
       "Figueroa High School        76.0        77.0        77.0        77.0\n",
       "Ford High School            77.0        78.0        77.0        76.0\n",
       "Griffin High School         82.0        84.0        84.0        83.0\n",
       "Hernandez High School       77.0        77.0        77.0        77.0\n",
       "Holden High School          84.0        83.0        85.0        83.0\n",
       "Huang High School           77.0        76.0        76.0        77.0\n",
       "Johnson High School         77.0        77.0        77.0        77.0\n",
       "Pena High School            84.0        83.0        84.0        84.0\n",
       "Rodriguez High School       77.0        77.0        76.0        78.0\n",
       "Shelton High School         83.0        83.0        83.0        84.0\n",
       "Thomas High School          84.0        83.0        83.0        83.0\n",
       "Wilson High School          83.0        84.0        83.0        83.0\n",
       "Wright High School          83.0        84.0        84.0        84.0"
      ]
     },
     "execution_count": 26,
     "metadata": {},
     "output_type": "execute_result"
    }
   ],
   "source": [
    "#locate the group by school sore grade\n",
    "math_ninth = np.round(student_data.loc[student_data[\"grade\"] == \"9th\"].groupby(\"school_name\")[\"math_score\"].mean())\n",
    "math_tenth = np.round(student_data.loc[student_data[\"grade\"] == \"10th\"].groupby(\"school_name\")[\"math_score\"].mean())\n",
    "math_eleventh = np.round(student_data.loc[student_data[\"grade\"] == \"11th\"].groupby(\"school_name\")[\"math_score\"].mean())\n",
    "math_twefth = np.round(student_data.loc[student_data[\"grade\"] == \"12th\"].groupby(\"school_name\")[\"math_score\"].mean())\n",
    "#Create df\n",
    "math_scores = pd.DataFrame({\n",
    "    \"9th Grade\": math_ninth,\n",
    "    \"10th Grade\": math_tenth,\n",
    "    \"11th Grade\": math_eleventh,\n",
    "    \"12th Grade\": math_twefth})\n",
    "math_scores"
   ]
  },
  {
   "cell_type": "markdown",
   "metadata": {},
   "source": [
    "## Reading Score by Grade "
   ]
  },
  {
   "cell_type": "markdown",
   "metadata": {},
   "source": [
    "* Perform the same operations as above for reading scores"
   ]
  },
  {
   "cell_type": "code",
   "execution_count": 27,
   "metadata": {},
   "outputs": [
    {
     "data": {
      "text/html": [
       "<div>\n",
       "<style scoped>\n",
       "    .dataframe tbody tr th:only-of-type {\n",
       "        vertical-align: middle;\n",
       "    }\n",
       "\n",
       "    .dataframe tbody tr th {\n",
       "        vertical-align: top;\n",
       "    }\n",
       "\n",
       "    .dataframe thead th {\n",
       "        text-align: right;\n",
       "    }\n",
       "</style>\n",
       "<table border=\"1\" class=\"dataframe\">\n",
       "  <thead>\n",
       "    <tr style=\"text-align: right;\">\n",
       "      <th></th>\n",
       "      <th>9th Grade</th>\n",
       "      <th>10th Grade</th>\n",
       "      <th>11th Grade</th>\n",
       "      <th>12th Grade</th>\n",
       "    </tr>\n",
       "    <tr>\n",
       "      <th>school_name</th>\n",
       "      <th></th>\n",
       "      <th></th>\n",
       "      <th></th>\n",
       "      <th></th>\n",
       "    </tr>\n",
       "  </thead>\n",
       "  <tbody>\n",
       "    <tr>\n",
       "      <th>Bailey High School</th>\n",
       "      <td>81.0</td>\n",
       "      <td>81.0</td>\n",
       "      <td>81.0</td>\n",
       "      <td>81.0</td>\n",
       "    </tr>\n",
       "    <tr>\n",
       "      <th>Cabrera High School</th>\n",
       "      <td>84.0</td>\n",
       "      <td>84.0</td>\n",
       "      <td>84.0</td>\n",
       "      <td>84.0</td>\n",
       "    </tr>\n",
       "    <tr>\n",
       "      <th>Figueroa High School</th>\n",
       "      <td>81.0</td>\n",
       "      <td>81.0</td>\n",
       "      <td>81.0</td>\n",
       "      <td>81.0</td>\n",
       "    </tr>\n",
       "    <tr>\n",
       "      <th>Ford High School</th>\n",
       "      <td>81.0</td>\n",
       "      <td>81.0</td>\n",
       "      <td>80.0</td>\n",
       "      <td>81.0</td>\n",
       "    </tr>\n",
       "    <tr>\n",
       "      <th>Griffin High School</th>\n",
       "      <td>83.0</td>\n",
       "      <td>84.0</td>\n",
       "      <td>84.0</td>\n",
       "      <td>84.0</td>\n",
       "    </tr>\n",
       "    <tr>\n",
       "      <th>Hernandez High School</th>\n",
       "      <td>81.0</td>\n",
       "      <td>81.0</td>\n",
       "      <td>81.0</td>\n",
       "      <td>81.0</td>\n",
       "    </tr>\n",
       "    <tr>\n",
       "      <th>Holden High School</th>\n",
       "      <td>84.0</td>\n",
       "      <td>83.0</td>\n",
       "      <td>84.0</td>\n",
       "      <td>85.0</td>\n",
       "    </tr>\n",
       "    <tr>\n",
       "      <th>Huang High School</th>\n",
       "      <td>81.0</td>\n",
       "      <td>82.0</td>\n",
       "      <td>81.0</td>\n",
       "      <td>80.0</td>\n",
       "    </tr>\n",
       "    <tr>\n",
       "      <th>Johnson High School</th>\n",
       "      <td>81.0</td>\n",
       "      <td>81.0</td>\n",
       "      <td>81.0</td>\n",
       "      <td>81.0</td>\n",
       "    </tr>\n",
       "    <tr>\n",
       "      <th>Pena High School</th>\n",
       "      <td>84.0</td>\n",
       "      <td>84.0</td>\n",
       "      <td>84.0</td>\n",
       "      <td>85.0</td>\n",
       "    </tr>\n",
       "    <tr>\n",
       "      <th>Rodriguez High School</th>\n",
       "      <td>81.0</td>\n",
       "      <td>81.0</td>\n",
       "      <td>81.0</td>\n",
       "      <td>80.0</td>\n",
       "    </tr>\n",
       "    <tr>\n",
       "      <th>Shelton High School</th>\n",
       "      <td>84.0</td>\n",
       "      <td>83.0</td>\n",
       "      <td>84.0</td>\n",
       "      <td>83.0</td>\n",
       "    </tr>\n",
       "    <tr>\n",
       "      <th>Thomas High School</th>\n",
       "      <td>84.0</td>\n",
       "      <td>84.0</td>\n",
       "      <td>84.0</td>\n",
       "      <td>84.0</td>\n",
       "    </tr>\n",
       "    <tr>\n",
       "      <th>Wilson High School</th>\n",
       "      <td>84.0</td>\n",
       "      <td>84.0</td>\n",
       "      <td>84.0</td>\n",
       "      <td>84.0</td>\n",
       "    </tr>\n",
       "    <tr>\n",
       "      <th>Wright High School</th>\n",
       "      <td>84.0</td>\n",
       "      <td>84.0</td>\n",
       "      <td>84.0</td>\n",
       "      <td>84.0</td>\n",
       "    </tr>\n",
       "  </tbody>\n",
       "</table>\n",
       "</div>"
      ],
      "text/plain": [
       "                       9th Grade  10th Grade  11th Grade  12th Grade\n",
       "school_name                                                         \n",
       "Bailey High School          81.0        81.0        81.0        81.0\n",
       "Cabrera High School         84.0        84.0        84.0        84.0\n",
       "Figueroa High School        81.0        81.0        81.0        81.0\n",
       "Ford High School            81.0        81.0        80.0        81.0\n",
       "Griffin High School         83.0        84.0        84.0        84.0\n",
       "Hernandez High School       81.0        81.0        81.0        81.0\n",
       "Holden High School          84.0        83.0        84.0        85.0\n",
       "Huang High School           81.0        82.0        81.0        80.0\n",
       "Johnson High School         81.0        81.0        81.0        81.0\n",
       "Pena High School            84.0        84.0        84.0        85.0\n",
       "Rodriguez High School       81.0        81.0        81.0        80.0\n",
       "Shelton High School         84.0        83.0        84.0        83.0\n",
       "Thomas High School          84.0        84.0        84.0        84.0\n",
       "Wilson High School          84.0        84.0        84.0        84.0\n",
       "Wright High School          84.0        84.0        84.0        84.0"
      ]
     },
     "execution_count": 27,
     "metadata": {},
     "output_type": "execute_result"
    }
   ],
   "source": [
    "#locate the group by school sore grade\n",
    "reading_ninth = np.round(student_data.loc[student_data[\"grade\"] == \"9th\"].groupby(\"school_name\")[\"reading_score\"].mean())\n",
    "reading_tenth = np.round(student_data.loc[student_data[\"grade\"] == \"10th\"].groupby(\"school_name\")[\"reading_score\"].mean())\n",
    "reading_eleventh = np.round(student_data.loc[student_data[\"grade\"] == \"11th\"].groupby(\"school_name\")[\"reading_score\"].mean())\n",
    "reading_twelfth = np.round(student_data.loc[student_data[\"grade\"] == \"12th\"].groupby(\"school_name\")[\"reading_score\"].mean())\n",
    "#Create df\n",
    "reading_scores = pd.DataFrame({\n",
    "    \"9th Grade\": reading_ninth,\n",
    "    \"10th Grade\": reading_tenth,\n",
    "    \"11th Grade\": reading_eleventh,\n",
    "    \"12th Grade\": reading_twelfth})\n",
    "reading_scores"
   ]
  },
  {
   "cell_type": "markdown",
   "metadata": {},
   "source": [
    "## Scores by School Spending"
   ]
  },
  {
   "cell_type": "markdown",
   "metadata": {},
   "source": [
    "* Create a table that breaks down school performances based on average Spending Ranges (Per Student). Use 4 reasonable bins to group school spending. Include in the table each of the following:\n",
    "  * Average Math Score\n",
    "  * Average Reading Score\n",
    "  * % Passing Math\n",
    "  * % Passing Reading\n",
    "  * Overall Passing Rate (Average of the above two)"
   ]
  },
  {
   "cell_type": "code",
   "execution_count": 36,
   "metadata": {},
   "outputs": [
    {
     "data": {
      "text/plain": [
       "0        NaN\n",
       "1        NaN\n",
       "2        NaN\n",
       "3        NaN\n",
       "4        NaN\n",
       "        ... \n",
       "39165    NaN\n",
       "39166    NaN\n",
       "39167    NaN\n",
       "39168    NaN\n",
       "39169    NaN\n",
       "Name: budget, Length: 39170, dtype: category\n",
       "Categories (4, object): [0-15 < 16-30 < 31-45 < 46-80]"
      ]
     },
     "execution_count": 36,
     "metadata": {},
     "output_type": "execute_result"
    }
   ],
   "source": [
    "# divide budget to find reasonable bins = 0-15, 16-30, 31-45, 46-80\n",
    "bins = [0, 16, 31, 46, 80]\n",
    "group_names = [\"0-15\", \"16-30\", \"31-45\", \"46-80\"]\n",
    "spending_df = pd.cut(school_data_complete[\"budget\"], bins, labels=group_names, include_lowest=True)\n",
    "spending_df"
   ]
  },
  {
   "cell_type": "markdown",
   "metadata": {},
   "source": [
    "## Scores by School Size"
   ]
  },
  {
   "cell_type": "markdown",
   "metadata": {},
   "source": [
    "* Perform the same operations as above, based on school size."
   ]
  },
  {
   "cell_type": "code",
   "execution_count": 38,
   "metadata": {
    "scrolled": true
   },
   "outputs": [
    {
     "data": {
      "text/plain": [
       "0        NaN\n",
       "1        NaN\n",
       "2        NaN\n",
       "3        NaN\n",
       "4        NaN\n",
       "        ... \n",
       "39165    NaN\n",
       "39166    NaN\n",
       "39167    NaN\n",
       "39168    NaN\n",
       "39169    NaN\n",
       "Name: size, Length: 39170, dtype: category\n",
       "Categories (4, object): [0-250 < 251-500 < 501-750 < 751-1000]"
      ]
     },
     "execution_count": 38,
     "metadata": {},
     "output_type": "execute_result"
    }
   ],
   "source": [
    "bins = [0, 250, 500, 750, 1000]\n",
    "group_names = [\"0-250\", \"251-500\", \"501-750\", \"751-1000\"]\n",
    "size_df = pd.cut(school_data_complete[\"size\"], bins, labels=group_names, include_lowest=True)\n",
    "size_df"
   ]
  },
  {
   "cell_type": "markdown",
   "metadata": {},
   "source": [
    "## Scores by School Type"
   ]
  },
  {
   "cell_type": "markdown",
   "metadata": {},
   "source": [
    "* Perform the same operations as above, based on school type"
   ]
  },
  {
   "cell_type": "code",
   "execution_count": 72,
   "metadata": {},
   "outputs": [
    {
     "data": {
      "text/html": [
       "<div>\n",
       "<style scoped>\n",
       "    .dataframe tbody tr th:only-of-type {\n",
       "        vertical-align: middle;\n",
       "    }\n",
       "\n",
       "    .dataframe tbody tr th {\n",
       "        vertical-align: top;\n",
       "    }\n",
       "\n",
       "    .dataframe thead th {\n",
       "        text-align: right;\n",
       "    }\n",
       "</style>\n",
       "<table border=\"1\" class=\"dataframe\">\n",
       "  <thead>\n",
       "    <tr style=\"text-align: right;\">\n",
       "      <th></th>\n",
       "      <th>School Type</th>\n",
       "      <th>Avg Math Score</th>\n",
       "      <th>Average Reading Score</th>\n",
       "      <th>% Passing Math</th>\n",
       "      <th>% Passing Reading</th>\n",
       "    </tr>\n",
       "  </thead>\n",
       "  <tbody>\n",
       "    <tr>\n",
       "      <th>0</th>\n",
       "      <td>District</td>\n",
       "      <td>78.98537145774827</td>\n",
       "      <td>81.87784018381414</td>\n",
       "      <td>0        1.0\\n1        0.0\\n2        0.0\\n3   ...</td>\n",
       "      <td>0        0.0\\n1        1.0\\n2        1.0\\n3   ...</td>\n",
       "    </tr>\n",
       "    <tr>\n",
       "      <th>1</th>\n",
       "      <td>District</td>\n",
       "      <td>78.98537145774827</td>\n",
       "      <td>81.87784018381414</td>\n",
       "      <td>0        1.0\\n1        0.0\\n2        0.0\\n3   ...</td>\n",
       "      <td>0        0.0\\n1        1.0\\n2        1.0\\n3   ...</td>\n",
       "    </tr>\n",
       "    <tr>\n",
       "      <th>2</th>\n",
       "      <td>District</td>\n",
       "      <td>78.98537145774827</td>\n",
       "      <td>81.87784018381414</td>\n",
       "      <td>0        1.0\\n1        0.0\\n2        0.0\\n3   ...</td>\n",
       "      <td>0        0.0\\n1        1.0\\n2        1.0\\n3   ...</td>\n",
       "    </tr>\n",
       "    <tr>\n",
       "      <th>3</th>\n",
       "      <td>District</td>\n",
       "      <td>78.98537145774827</td>\n",
       "      <td>81.87784018381414</td>\n",
       "      <td>0        1.0\\n1        0.0\\n2        0.0\\n3   ...</td>\n",
       "      <td>0        0.0\\n1        1.0\\n2        1.0\\n3   ...</td>\n",
       "    </tr>\n",
       "    <tr>\n",
       "      <th>4</th>\n",
       "      <td>District</td>\n",
       "      <td>78.98537145774827</td>\n",
       "      <td>81.87784018381414</td>\n",
       "      <td>0        1.0\\n1        0.0\\n2        0.0\\n3   ...</td>\n",
       "      <td>0        0.0\\n1        1.0\\n2        1.0\\n3   ...</td>\n",
       "    </tr>\n",
       "    <tr>\n",
       "      <th>...</th>\n",
       "      <td>...</td>\n",
       "      <td>...</td>\n",
       "      <td>...</td>\n",
       "      <td>...</td>\n",
       "      <td>...</td>\n",
       "    </tr>\n",
       "    <tr>\n",
       "      <th>39165</th>\n",
       "      <td>Charter</td>\n",
       "      <td>78.98537145774827</td>\n",
       "      <td>81.87784018381414</td>\n",
       "      <td>0        1.0\\n1        0.0\\n2        0.0\\n3   ...</td>\n",
       "      <td>0        0.0\\n1        1.0\\n2        1.0\\n3   ...</td>\n",
       "    </tr>\n",
       "    <tr>\n",
       "      <th>39166</th>\n",
       "      <td>Charter</td>\n",
       "      <td>78.98537145774827</td>\n",
       "      <td>81.87784018381414</td>\n",
       "      <td>0        1.0\\n1        0.0\\n2        0.0\\n3   ...</td>\n",
       "      <td>0        0.0\\n1        1.0\\n2        1.0\\n3   ...</td>\n",
       "    </tr>\n",
       "    <tr>\n",
       "      <th>39167</th>\n",
       "      <td>Charter</td>\n",
       "      <td>78.98537145774827</td>\n",
       "      <td>81.87784018381414</td>\n",
       "      <td>0        1.0\\n1        0.0\\n2        0.0\\n3   ...</td>\n",
       "      <td>0        0.0\\n1        1.0\\n2        1.0\\n3   ...</td>\n",
       "    </tr>\n",
       "    <tr>\n",
       "      <th>39168</th>\n",
       "      <td>Charter</td>\n",
       "      <td>78.98537145774827</td>\n",
       "      <td>81.87784018381414</td>\n",
       "      <td>0        1.0\\n1        0.0\\n2        0.0\\n3   ...</td>\n",
       "      <td>0        0.0\\n1        1.0\\n2        1.0\\n3   ...</td>\n",
       "    </tr>\n",
       "    <tr>\n",
       "      <th>39169</th>\n",
       "      <td>Charter</td>\n",
       "      <td>78.98537145774827</td>\n",
       "      <td>81.87784018381414</td>\n",
       "      <td>0        1.0\\n1        0.0\\n2        0.0\\n3   ...</td>\n",
       "      <td>0        0.0\\n1        1.0\\n2        1.0\\n3   ...</td>\n",
       "    </tr>\n",
       "  </tbody>\n",
       "</table>\n",
       "<p>39170 rows × 5 columns</p>\n",
       "</div>"
      ],
      "text/plain": [
       "      School Type     Avg Math Score Average Reading Score  \\\n",
       "0        District  78.98537145774827     81.87784018381414   \n",
       "1        District  78.98537145774827     81.87784018381414   \n",
       "2        District  78.98537145774827     81.87784018381414   \n",
       "3        District  78.98537145774827     81.87784018381414   \n",
       "4        District  78.98537145774827     81.87784018381414   \n",
       "...           ...                ...                   ...   \n",
       "39165     Charter  78.98537145774827     81.87784018381414   \n",
       "39166     Charter  78.98537145774827     81.87784018381414   \n",
       "39167     Charter  78.98537145774827     81.87784018381414   \n",
       "39168     Charter  78.98537145774827     81.87784018381414   \n",
       "39169     Charter  78.98537145774827     81.87784018381414   \n",
       "\n",
       "                                          % Passing Math  \\\n",
       "0      0        1.0\\n1        0.0\\n2        0.0\\n3   ...   \n",
       "1      0        1.0\\n1        0.0\\n2        0.0\\n3   ...   \n",
       "2      0        1.0\\n1        0.0\\n2        0.0\\n3   ...   \n",
       "3      0        1.0\\n1        0.0\\n2        0.0\\n3   ...   \n",
       "4      0        1.0\\n1        0.0\\n2        0.0\\n3   ...   \n",
       "...                                                  ...   \n",
       "39165  0        1.0\\n1        0.0\\n2        0.0\\n3   ...   \n",
       "39166  0        1.0\\n1        0.0\\n2        0.0\\n3   ...   \n",
       "39167  0        1.0\\n1        0.0\\n2        0.0\\n3   ...   \n",
       "39168  0        1.0\\n1        0.0\\n2        0.0\\n3   ...   \n",
       "39169  0        1.0\\n1        0.0\\n2        0.0\\n3   ...   \n",
       "\n",
       "                                       % Passing Reading  \n",
       "0      0        0.0\\n1        1.0\\n2        1.0\\n3   ...  \n",
       "1      0        0.0\\n1        1.0\\n2        1.0\\n3   ...  \n",
       "2      0        0.0\\n1        1.0\\n2        1.0\\n3   ...  \n",
       "3      0        0.0\\n1        1.0\\n2        1.0\\n3   ...  \n",
       "4      0        0.0\\n1        1.0\\n2        1.0\\n3   ...  \n",
       "...                                                  ...  \n",
       "39165  0        0.0\\n1        1.0\\n2        1.0\\n3   ...  \n",
       "39166  0        0.0\\n1        1.0\\n2        1.0\\n3   ...  \n",
       "39167  0        0.0\\n1        1.0\\n2        1.0\\n3   ...  \n",
       "39168  0        0.0\\n1        1.0\\n2        1.0\\n3   ...  \n",
       "39169  0        0.0\\n1        1.0\\n2        1.0\\n3   ...  \n",
       "\n",
       "[39170 rows x 5 columns]"
      ]
     },
     "execution_count": 72,
     "metadata": {},
     "output_type": "execute_result"
    }
   ],
   "source": [
    "#school_type_df = school_data_complete.groupby(\"type\")\n",
    "#school_type = school_data_complete(\"type\")\n",
    "type_math = (school_data_complete[\"math_score\"].mean()).astype(float)\n",
    "type_reading = (school_data_complete[\"reading_score\"].mean()).astype(float)\n",
    "type_pass_math = (school_data_complete[\"math_score\"] >= 70).astype(float)\n",
    "type_pass_reading = (school_data_complete[\"reading_score\"] >=70).astype(float)\n",
    "#type_pass_both = (type_pass_math/type_pass_reading).astype(float)\n",
    "\n",
    "school_score_df = pd.DataFrame({\n",
    "                            \"School Type\": school_type,\n",
    "                            \"Avg Math Score\": f\"{type_math:,}\", \n",
    "                            \"Average Reading Score\": f\"{type_reading:,}\",\n",
    "                            \"% Passing Math\": f\"{type_pass_math:}\",\n",
    "                            \"% Passing Reading\": f\"{type_pass_reading:}\",\n",
    "                            #\"% Overall Passing\": f\"{type_pass_both: }\"\n",
    "})\n",
    "                                \n",
    "school_score_df\n"
   ]
  },
  {
   "cell_type": "code",
   "execution_count": null,
   "metadata": {},
   "outputs": [],
   "source": []
  }
 ],
 "metadata": {
  "anaconda-cloud": {},
  "kernel_info": {
   "name": "python3"
  },
  "kernelspec": {
   "display_name": "Python 3",
   "language": "python",
   "name": "python3"
  },
  "language_info": {
   "codemirror_mode": {
    "name": "ipython",
    "version": 3
   },
   "file_extension": ".py",
   "mimetype": "text/x-python",
   "name": "python",
   "nbconvert_exporter": "python",
   "pygments_lexer": "ipython3",
   "version": "3.6.10"
  },
  "latex_envs": {
   "LaTeX_envs_menu_present": true,
   "autoclose": false,
   "autocomplete": true,
   "bibliofile": "biblio.bib",
   "cite_by": "apalike",
   "current_citInitial": 1,
   "eqLabelWithNumbers": true,
   "eqNumInitial": 1,
   "hotkeys": {
    "equation": "Ctrl-E",
    "itemize": "Ctrl-I"
   },
   "labels_anchors": false,
   "latex_user_defs": false,
   "report_style_numbering": false,
   "user_envs_cfg": false
  },
  "nteract": {
   "version": "0.8.4"
  }
 },
 "nbformat": 4,
 "nbformat_minor": 1
}
